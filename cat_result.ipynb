{
 "cells": [
  {
   "cell_type": "code",
   "execution_count": 1,
   "metadata": {},
   "outputs": [
    {
     "name": "stdout",
     "output_type": "stream",
     "text": [
      "PNG (640, 480) RGBA\n"
     ]
    }
   ],
   "source": [
    "from PIL import Image\n",
    "import os\n",
    "\n",
    "\n",
    "img_dir = 'mmdetection/results/allarea'\n",
    "\n",
    "image_file = os.path.join(img_dir, 'bbox-八点灰灯蛾-allarea.png')\n",
    "im = Image.open(image_file)\n",
    "print(im.format, im.size, im.mode)\n",
    "\n",
    "\n",
    "os.listdir(img_dir)"
   ]
  },
  {
   "cell_type": "code",
   "execution_count": 11,
   "metadata": {},
   "outputs": [],
   "source": [
    "import numpy as np\n",
    "\n",
    "\n",
    "images_name = os.listdir(img_dir)\n",
    "\n",
    "big_array = np.zeros((480*6,640*5,4))\n",
    "img_files = []\n",
    "\n",
    "for image_name in images_name:\n",
    "    img_files += [os.path.join(img_dir, image_name)]\n",
    "    \n",
    "\n",
    "for i in range(0,6):\n",
    "    for j in range(0,5):\n",
    "        index = 5*i + j\n",
    "        im = Image.open(img_files[index])\n",
    "        im_array = np.array(im)\n",
    "        big_array[480*i:480*(i+1),640*j:640*(j+1),:] = im_array"
   ]
  },
  {
   "cell_type": "code",
   "execution_count": 16,
   "metadata": {},
   "outputs": [
    {
     "data": {
      "text/plain": [
       "255.0"
      ]
     },
     "execution_count": 16,
     "metadata": {},
     "output_type": "execute_result"
    }
   ],
   "source": [
    "big_array[0,0,3]"
   ]
  },
  {
   "cell_type": "code",
   "execution_count": 17,
   "metadata": {},
   "outputs": [],
   "source": [
    "big_array = big_array.astype(np.uint8)"
   ]
  },
  {
   "cell_type": "code",
   "execution_count": null,
   "metadata": {},
   "outputs": [],
   "source": []
  },
  {
   "cell_type": "code",
   "execution_count": 18,
   "metadata": {},
   "outputs": [],
   "source": [
    "big_im = Image.fromarray(big_array)\n",
    "big_im.save('cat_PR.png')"
   ]
  }
 ],
 "metadata": {
  "interpreter": {
   "hash": "619381aaefb83489e698cf1853fc09820b08e0750303d1b258523c948a8e3c49"
  },
  "kernelspec": {
   "display_name": "Python 3.8.10 ('insect-pest')",
   "language": "python",
   "name": "python3"
  },
  "language_info": {
   "codemirror_mode": {
    "name": "ipython",
    "version": 3
   },
   "file_extension": ".py",
   "mimetype": "text/x-python",
   "name": "python",
   "nbconvert_exporter": "python",
   "pygments_lexer": "ipython3",
   "version": "3.8.10"
  },
  "orig_nbformat": 4
 },
 "nbformat": 4,
 "nbformat_minor": 2
}
