{
 "cells": [
  {
   "cell_type": "code",
   "execution_count": null,
   "metadata": {},
   "outputs": [],
   "source": [
    "to_inf_file = '/root/autodl-tmp/2022.04.06(正式数据)/附件3/无位置信息的图片汇总表.csv'\n",
    "\n",
    "\n",
    "\n",
    "import numpy as np\n",
    "import pandas as pd\n",
    "\n",
    "\n",
    "\n",
    "df = pd.read_csv(to_inf_file, encoding='gbk')\n",
    "\n",
    "image_names = df['文件名'].unique()\n",
    "\n",
    "data_img_dir = '/root/autodl-tmp/2022.04.06(正式数据)/附件1/'\n",
    "dest_img_dir = 'mmdetection/data/image2test'\n",
    "\n",
    "import os, shutil\n",
    "'''\n",
    "for image_name in image_names:\n",
    "    src = os.path.join(data_img_dir, image_name)\n",
    "    dst = os.path.join(dest_img_dir, image_name)\n",
    "    shutil.copyfile(src, dst)\n",
    "'''\n",
    "\n",
    "from mmdet.apis import init_detector, inference_detector, show_result_pyplot\n",
    "import mmcv\n",
    "\n",
    "config_file = 'mmdetection/configs/yolox/my_yolox_v7_pre70_200e.py'\n",
    "# download the checkpoint from model zoo and put it in `checkpoints/`\n",
    "# url: https://download.openmmlab.com/mmdetection/v2.0/faster_rcnn/faster_rcnn_r50_fpn_1x_coco/faster_rcnn_r50_fpn_1x_coco_20200130-047c8118.pth\n",
    "checkpoint_file = 'mmdetection/work_dirs/my_yolox_v7_pre70_200e/best_bbox_mAP_epoch_75.pth'\n",
    "\n",
    "# build the model from a config file and a checkpoint file\n",
    "model = init_detector(config_file, checkpoint_file, device='cuda:0')\n",
    "\n",
    "img = 'mmdetection/data/image2test/00002.jpg'\n",
    "result = inference_detector(model, img)"
   ]
  },
  {
   "cell_type": "code",
   "execution_count": null,
   "metadata": {},
   "outputs": [],
   "source": [
    "image2test = '/root/autodl-tmp/测试数据/测试图像文件'\n",
    "\n",
    "\n",
    "\n",
    "import numpy as np\n",
    "import pandas as pd"
   ]
  },
  {
   "cell_type": "code",
   "execution_count": null,
   "metadata": {},
   "outputs": [],
   "source": []
  }
 ],
 "metadata": {
  "interpreter": {
   "hash": "619381aaefb83489e698cf1853fc09820b08e0750303d1b258523c948a8e3c49"
  },
  "kernelspec": {
   "display_name": "Python 3.8.10 ('insect-pest')",
   "language": "python",
   "name": "python3"
  },
  "language_info": {
   "name": "python",
   "version": "3.8.10"
  },
  "orig_nbformat": 4
 },
 "nbformat": 4,
 "nbformat_minor": 2
}
